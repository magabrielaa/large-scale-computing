{
 "cells": [
  {
   "attachments": {},
   "cell_type": "markdown",
   "metadata": {},
   "source": [
    "## Assignment 4\n",
    "\n",
    "### Question 3\n",
    "\n",
    "#### Create programmatic AWS Lambda Function and request resources"
   ]
  },
  {
   "cell_type": "code",
   "execution_count": 1,
   "metadata": {},
   "outputs": [],
   "source": [
    "import boto3\n",
    "import json\n",
    "\n",
    "# Access IAM role,to allow Lambda to interact with other AWS resources\n",
    "aws_lambda = boto3.client('lambda')\n",
    "iam_client = boto3.client('iam')\n",
    "role = iam_client.get_role(RoleName='LabRole')\n",
    "\n",
    "# Open zipped directory that contains lambda function\n",
    "with open('q2.zip', 'rb') as f:\n",
    "    lambda_zip = f.read() # Read Python function\n",
    "\n",
    "try:\n",
    "    # If function hasn't yet been created, create it\n",
    "    response = aws_lambda.create_function(\n",
    "        FunctionName='q2_programmatic',\n",
    "        Runtime='python3.9',\n",
    "        Role=role['Role']['Arn'], \n",
    "        Handler='lambda_function.lambda_handler', \n",
    "        Code=dict(ZipFile=lambda_zip),\n",
    "        Timeout=300\n",
    "    )\n",
    "except aws_lambda.exceptions.ResourceConflictException:\n",
    "    # If function already exists, update it based on zip file contents\n",
    "    response = aws_lambda.update_function_code(\n",
    "        FunctionName='q2_programmatic',\n",
    "        ZipFile=lambda_zip\n",
    "        )\n",
    "\n",
    "lambda_arn = response['FunctionArn']"
   ]
  },
  {
   "attachments": {},
   "cell_type": "markdown",
   "metadata": {},
   "source": [
    "#### Invoke Lambda function with three test data cases"
   ]
  },
  {
   "cell_type": "code",
   "execution_count": 2,
   "metadata": {},
   "outputs": [
    {
     "data": {
      "text/plain": [
       "{'statusCode': 200, 'body': 'OK'}"
      ]
     },
     "execution_count": 2,
     "metadata": {},
     "output_type": "execute_result"
    }
   ],
   "source": [
    "# (1) Success case test data where the entry is valid\n",
    "\n",
    "test_data_1 = {\n",
    "    \"user_id\": \"0001\",\n",
    "    \"timestamp\": \"092821120000\",\n",
    "    \"time_elapsed\": 5,\n",
    "    \"q1\": 5,\n",
    "    \"q2\": 3,\n",
    "    \"q3\": 2,\n",
    "    \"q4\": 2,\n",
    "    \"q5\": 4,\n",
    "    \"freetext\": \"I had a very bad day today...\"\n",
    "}\n",
    "\n",
    "# Run synchronously and print response:\n",
    "r = aws_lambda.invoke(FunctionName='q2_programmatic',\n",
    "                      InvocationType='RequestResponse',\n",
    "                      Payload=json.dumps(test_data_1))\n",
    "json.loads(r['Payload'].read())"
   ]
  },
  {
   "cell_type": "code",
   "execution_count": 3,
   "metadata": {},
   "outputs": [
    {
     "data": {
      "text/plain": [
       "{'statusCode': 400, 'body': 'Invalid entry. Not enough time elapsed.'}"
      ]
     },
     "execution_count": 3,
     "metadata": {},
     "output_type": "execute_result"
    }
   ],
   "source": [
    "# (2) Invalid Entry: Not enough time elapsed\n",
    "\n",
    "test_data_2 = {\n",
    "    \"user_id\": \"0001\",\n",
    "    \"timestamp\": \"092821120001\",\n",
    "    \"time_elapsed\": 2,\n",
    "    \"q1\": 5,\n",
    "    \"q2\": 3,\n",
    "    \"q3\": 2,\n",
    "    \"q4\": 2,\n",
    "    \"q5\": 4,\n",
    "    \"freetext\": \"I had a very bad day today...\"\n",
    " }\n",
    "\n",
    "# Run synchronously and print response:\n",
    "r = aws_lambda.invoke(FunctionName='q2_programmatic',\n",
    "                      InvocationType='RequestResponse',\n",
    "                      Payload=json.dumps(test_data_2))\n",
    "json.loads(r['Payload'].read())"
   ]
  },
  {
   "cell_type": "code",
   "execution_count": 4,
   "metadata": {},
   "outputs": [
    {
     "data": {
      "text/plain": [
       "{'statusCode': 400, 'body': 'Invalid entry. No text response'}"
      ]
     },
     "execution_count": 4,
     "metadata": {},
     "output_type": "execute_result"
    }
   ],
   "source": [
    "# (3) Invalid Entry: No text response\n",
    "\n",
    "test_data_3 = {\n",
    "    \"user_id\": \"0001\",\n",
    "    \"timestamp\": \"092821120100\",\n",
    "    \"time_elapsed\": 5,\n",
    "    \"q1\": 5,\n",
    "    \"q2\": 3,\n",
    "    \"q3\": 2,\n",
    "    \"q4\": 2,\n",
    "    \"q5\": 4,\n",
    "    \"freetext\": \"\"\n",
    "}\n",
    "\n",
    "# Run synchronously and print response:\n",
    "r = aws_lambda.invoke(FunctionName='q2_programmatic',\n",
    "                      InvocationType='RequestResponse',\n",
    "                      Payload=json.dumps(test_data_3))\n",
    "json.loads(r['Payload'].read())"
   ]
  }
 ],
 "metadata": {
  "kernelspec": {
   "display_name": "Python 3",
   "language": "python",
   "name": "python3"
  },
  "language_info": {
   "codemirror_mode": {
    "name": "ipython",
    "version": 3
   },
   "file_extension": ".py",
   "mimetype": "text/x-python",
   "name": "python",
   "nbconvert_exporter": "python",
   "pygments_lexer": "ipython3",
   "version": "3.10.10"
  },
  "orig_nbformat": 4
 },
 "nbformat": 4,
 "nbformat_minor": 2
}
